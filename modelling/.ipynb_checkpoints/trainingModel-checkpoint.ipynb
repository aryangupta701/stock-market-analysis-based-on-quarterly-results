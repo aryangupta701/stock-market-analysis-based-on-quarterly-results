{
 "cells": [
  {
   "cell_type": "code",
   "execution_count": 67,
   "id": "bd20ece6",
   "metadata": {},
   "outputs": [],
   "source": [
    "import torch\n",
    "import pandas as pd\n",
    "from sklearn.model_selection import train_test_split\n",
    "from torch import nn"
   ]
  },
  {
   "cell_type": "code",
   "execution_count": 68,
   "id": "8d242768",
   "metadata": {},
   "outputs": [],
   "source": [
    "data = pd.read_csv(\"C:\\\\Users\\\\garya\\\\ML projects\\\\Stock analysis\\\\modelling\\\\dataset\\\\trainDataset.csv\")"
   ]
  },
  {
   "cell_type": "code",
   "execution_count": 69,
   "id": "48c59636",
   "metadata": {},
   "outputs": [],
   "source": [
    "X_data, y_data = data[['RevenueChange', \"EBITDAChange\", 'MarginChange', \"ProfitChange\"]], data[['Change']]"
   ]
  },
  {
   "cell_type": "code",
   "execution_count": 70,
   "id": "c66c14b9",
   "metadata": {},
   "outputs": [],
   "source": [
    "X_data = X_data.to_numpy()"
   ]
  },
  {
   "cell_type": "code",
   "execution_count": 71,
   "id": "9ecd5aa4",
   "metadata": {},
   "outputs": [],
   "source": [
    "y_data = y_data.to_numpy()"
   ]
  },
  {
   "cell_type": "code",
   "execution_count": 72,
   "id": "0ae14d6f",
   "metadata": {},
   "outputs": [],
   "source": [
    "X_tensor = torch.Tensor(X_data)"
   ]
  },
  {
   "cell_type": "code",
   "execution_count": 73,
   "id": "a265d967",
   "metadata": {},
   "outputs": [],
   "source": [
    "y_tensor = torch.Tensor(y_data)"
   ]
  },
  {
   "cell_type": "code",
   "execution_count": 74,
   "id": "0d57f22b",
   "metadata": {},
   "outputs": [],
   "source": [
    "X_train, X_test, y_train , y_test = train_test_split(X_tensor, y_tensor, test_size = 0.2, random_state=1)"
   ]
  },
  {
   "cell_type": "code",
   "execution_count": null,
   "id": "fdb4cc25",
   "metadata": {},
   "outputs": [],
   "source": []
  },
  {
   "cell_type": "code",
   "execution_count": 75,
   "id": "82e8661f",
   "metadata": {},
   "outputs": [],
   "source": [
    "epochs = 1000\n",
    "learning_rate = 0.1\n",
    "hidden_layers = 8"
   ]
  },
  {
   "cell_type": "code",
   "execution_count": 76,
   "id": "c9676437",
   "metadata": {},
   "outputs": [],
   "source": [
    "class LinearModel(nn.Module):\n",
    "    def __init__(self):\n",
    "        super().__init__()\n",
    "        self.layer_1 = nn.Linear(in_features= 4, out_features = hidden_layers)\n",
    "        self.layer_2 = nn.Linear(in_features = hidden_layers, out_features = hidden_layers)\n",
    "        self.layer_3 = nn.Linear(in_features = hidden_layers, out_features = 1)\n",
    "        self.relu = nn.ReLU()\n",
    "        \n",
    "    def forward(self, x: torch.Tensor) -> torch.Tensor:\n",
    "        model = self.layer_1(x)\n",
    "        model = self.relu(model)\n",
    "        model = self.layer_2(model)\n",
    "        model = self.relu(model)\n",
    "        model = self.layer_3(model)\n",
    "        return model"
   ]
  },
  {
   "cell_type": "code",
   "execution_count": 77,
   "id": "0c45b271",
   "metadata": {},
   "outputs": [],
   "source": [
    "model_0 = LinearModel()"
   ]
  },
  {
   "cell_type": "code",
   "execution_count": 78,
   "id": "76255f76",
   "metadata": {},
   "outputs": [],
   "source": [
    "loss_fn = nn.L1Loss()\n",
    "optimizer = torch.optim.SGD(params=model_0.parameters(), lr = learning_rate)"
   ]
  },
  {
   "cell_type": "code",
   "execution_count": 81,
   "id": "7ff7f917",
   "metadata": {},
   "outputs": [
    {
     "name": "stdout",
     "output_type": "stream",
     "text": [
      "Train Loss : 0.3029401898384094 , Test Loss : 0.3223758935928345\n",
      "Train Loss : 0.3030257225036621 , Test Loss : 0.3191688060760498\n",
      "Train Loss : 0.3029298484325409 , Test Loss : 0.32044389843940735\n",
      "Train Loss : 0.30300843715667725 , Test Loss : 0.32219916582107544\n",
      "Train Loss : 0.30302751064300537 , Test Loss : 0.3221791386604309\n",
      "Train Loss : 0.3030228912830353 , Test Loss : 0.31862351298332214\n",
      "Train Loss : 0.30298835039138794 , Test Loss : 0.32203951478004456\n",
      "Train Loss : 0.30285900831222534 , Test Loss : 0.31045001745224\n",
      "Train Loss : 0.3028448522090912 , Test Loss : 0.326398640871048\n",
      "Train Loss : 0.30276089906692505 , Test Loss : 0.3077493906021118\n"
     ]
    }
   ],
   "source": [
    "for epoch in range(epochs):\n",
    "    #model train mode\n",
    "    model_0.train()\n",
    "    \n",
    "    # Forward pass\n",
    "    y_preds = model_0(X_train)\n",
    "    \n",
    "    #calculate the loss \n",
    "    loss = loss_fn(y_preds, y_train)\n",
    "    \n",
    "    #optimizer zero grad\n",
    "    optimizer.zero_grad()\n",
    "    \n",
    "    #back propagation \n",
    "    loss.backward()\n",
    "    \n",
    "    #gradient descent \n",
    "    optimizer.step()\n",
    "    \n",
    "    if(epoch%100 == 0):\n",
    "        model_0.eval()\n",
    "        with torch.inference_mode():\n",
    "            y_test_pred = model_0(X_test)\n",
    "            loss_test = loss_fn(y_test_pred,y_test )\n",
    "            \n",
    "        print(f\"Train Loss : {loss.item()} , Test Loss : {loss_test.item()}\")\n",
    "     \n",
    "    "
   ]
  },
  {
   "cell_type": "code",
   "execution_count": null,
   "id": "4c7943b0",
   "metadata": {},
   "outputs": [],
   "source": [
    " "
   ]
  },
  {
   "cell_type": "code",
   "execution_count": 82,
   "id": "24f54089",
   "metadata": {},
   "outputs": [],
   "source": []
  },
  {
   "cell_type": "code",
   "execution_count": null,
   "id": "0ddf0897",
   "metadata": {},
   "outputs": [],
   "source": []
  }
 ],
 "metadata": {
  "kernelspec": {
   "display_name": "Python 3 (ipykernel)",
   "language": "python",
   "name": "python3"
  },
  "language_info": {
   "codemirror_mode": {
    "name": "ipython",
    "version": 3
   },
   "file_extension": ".py",
   "mimetype": "text/x-python",
   "name": "python",
   "nbconvert_exporter": "python",
   "pygments_lexer": "ipython3",
   "version": "3.9.12"
  }
 },
 "nbformat": 4,
 "nbformat_minor": 5
}
