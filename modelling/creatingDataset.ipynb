{
 "cells": [
  {
   "cell_type": "code",
   "execution_count": 1,
   "id": "cc9d3793",
   "metadata": {},
   "outputs": [],
   "source": [
    "import pandas as pd "
   ]
  },
  {
   "cell_type": "code",
   "execution_count": 4,
   "id": "3883aba7",
   "metadata": {},
   "outputs": [],
   "source": [
    "frames = []"
   ]
  },
  {
   "cell_type": "code",
   "execution_count": 5,
   "id": "c337ceca",
   "metadata": {},
   "outputs": [],
   "source": [
    "for i in range(16):\n",
    "    df = pd.read_csv(f\"C:\\\\Users\\\\garya\\\\ML projects\\\\Stock analysis\\\\datasets\\\\16categories\\\\category_number_{i}.csv\")\n",
    "    for j in range(len(df)):\n",
    "        data = {\n",
    "            \"category\" : i, \n",
    "            \"SYMBOL\" : df['SYMBOL'][j],\n",
    "            \"Quarter\" : df['Quarter'][j], \n",
    "            \"Change\" : df['Change'][j]\n",
    "        }\n",
    "        temp_df = pd.DataFrame(data, index = [1])\n",
    "        frames.append(temp_df)"
   ]
  },
  {
   "cell_type": "code",
   "execution_count": 6,
   "id": "a28d5176",
   "metadata": {},
   "outputs": [],
   "source": [
    "final_df = pd.concat(frames, ignore_index = True)"
   ]
  },
  {
   "cell_type": "code",
   "execution_count": 8,
   "id": "6ebceebd",
   "metadata": {},
   "outputs": [],
   "source": [
    "final_df.to_csv(\"C:\\\\Users\\\\garya\\\\ML projects\\\\Stock analysis\\\\modelling\\\\dataset\\\\categoryWithChange.csv\", index = False)"
   ]
  }
 ],
 "metadata": {
  "kernelspec": {
   "display_name": "Python 3 (ipykernel)",
   "language": "python",
   "name": "python3"
  },
  "language_info": {
   "codemirror_mode": {
    "name": "ipython",
    "version": 3
   },
   "file_extension": ".py",
   "mimetype": "text/x-python",
   "name": "python",
   "nbconvert_exporter": "python",
   "pygments_lexer": "ipython3",
   "version": "3.9.12"
  }
 },
 "nbformat": 4,
 "nbformat_minor": 5
}
