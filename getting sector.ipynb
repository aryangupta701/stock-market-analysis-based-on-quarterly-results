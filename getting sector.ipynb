{
 "cells": [
  {
   "cell_type": "code",
   "execution_count": 1,
   "id": "fe76d430",
   "metadata": {},
   "outputs": [],
   "source": [
    "import pandas as pd "
   ]
  },
  {
   "cell_type": "code",
   "execution_count": 13,
   "id": "41a28bd9",
   "metadata": {},
   "outputs": [],
   "source": [
    "list_df = pd.read_csv(\"C:\\\\Users\\\\garya\\\\ML projects\\\\Stock analysis\\\\datasets\\\\moneyControlListWithSymbols.csv\")"
   ]
  },
  {
   "cell_type": "code",
   "execution_count": 14,
   "id": "dd5143ee",
   "metadata": {},
   "outputs": [],
   "source": [
    "list_df = list_df[['nsesymbol', 'URL']]"
   ]
  },
  {
   "cell_type": "code",
   "execution_count": 15,
   "id": "4dd0c4a9",
   "metadata": {},
   "outputs": [],
   "source": [
    "list_df = list_df.dropna()"
   ]
  },
  {
   "cell_type": "code",
   "execution_count": 16,
   "id": "58e19a5b",
   "metadata": {},
   "outputs": [
    {
     "data": {
      "text/html": [
       "<div>\n",
       "<style scoped>\n",
       "    .dataframe tbody tr th:only-of-type {\n",
       "        vertical-align: middle;\n",
       "    }\n",
       "\n",
       "    .dataframe tbody tr th {\n",
       "        vertical-align: top;\n",
       "    }\n",
       "\n",
       "    .dataframe thead th {\n",
       "        text-align: right;\n",
       "    }\n",
       "</style>\n",
       "<table border=\"1\" class=\"dataframe\">\n",
       "  <thead>\n",
       "    <tr style=\"text-align: right;\">\n",
       "      <th></th>\n",
       "      <th>nsesymbol</th>\n",
       "      <th>URL</th>\n",
       "    </tr>\n",
       "  </thead>\n",
       "  <tbody>\n",
       "    <tr>\n",
       "      <th>1</th>\n",
       "      <td>AMJUMBO</td>\n",
       "      <td>https://www.moneycontrol.com/india/stockpriceq...</td>\n",
       "    </tr>\n",
       "    <tr>\n",
       "      <th>2</th>\n",
       "      <td>ABINFRA</td>\n",
       "      <td>https://www.moneycontrol.com/india/stockpriceq...</td>\n",
       "    </tr>\n",
       "    <tr>\n",
       "      <th>8</th>\n",
       "      <td>A2ZINFRA</td>\n",
       "      <td>https://www.moneycontrol.com/india/stockpriceq...</td>\n",
       "    </tr>\n",
       "    <tr>\n",
       "      <th>10</th>\n",
       "      <td>AAATECH</td>\n",
       "      <td>https://www.moneycontrol.com/india/stockpriceq...</td>\n",
       "    </tr>\n",
       "    <tr>\n",
       "      <th>14</th>\n",
       "      <td>AAKASH</td>\n",
       "      <td>https://www.moneycontrol.com/india/stockpriceq...</td>\n",
       "    </tr>\n",
       "    <tr>\n",
       "      <th>...</th>\n",
       "      <td>...</td>\n",
       "      <td>...</td>\n",
       "    </tr>\n",
       "    <tr>\n",
       "      <th>5752</th>\n",
       "      <td>SGBNOV26</td>\n",
       "      <td>https://www.moneycontrol.com/india/stockpriceq...</td>\n",
       "    </tr>\n",
       "    <tr>\n",
       "      <th>5753</th>\n",
       "      <td>SGBOCT25</td>\n",
       "      <td>https://www.moneycontrol.com/india/stockpriceq...</td>\n",
       "    </tr>\n",
       "    <tr>\n",
       "      <th>5754</th>\n",
       "      <td>SGBOCT25IV</td>\n",
       "      <td>https://www.moneycontrol.com/india/stockpriceq...</td>\n",
       "    </tr>\n",
       "    <tr>\n",
       "      <th>5755</th>\n",
       "      <td>SGBOCT25V</td>\n",
       "      <td>https://www.moneycontrol.com/india/stockpriceq...</td>\n",
       "    </tr>\n",
       "    <tr>\n",
       "      <th>5756</th>\n",
       "      <td>SGBOCT26</td>\n",
       "      <td>https://www.moneycontrol.com/india/stockpriceq...</td>\n",
       "    </tr>\n",
       "  </tbody>\n",
       "</table>\n",
       "<p>2893 rows × 2 columns</p>\n",
       "</div>"
      ],
      "text/plain": [
       "       nsesymbol                                                URL\n",
       "1        AMJUMBO  https://www.moneycontrol.com/india/stockpriceq...\n",
       "2        ABINFRA  https://www.moneycontrol.com/india/stockpriceq...\n",
       "8       A2ZINFRA  https://www.moneycontrol.com/india/stockpriceq...\n",
       "10       AAATECH  https://www.moneycontrol.com/india/stockpriceq...\n",
       "14        AAKASH  https://www.moneycontrol.com/india/stockpriceq...\n",
       "...          ...                                                ...\n",
       "5752    SGBNOV26  https://www.moneycontrol.com/india/stockpriceq...\n",
       "5753    SGBOCT25  https://www.moneycontrol.com/india/stockpriceq...\n",
       "5754  SGBOCT25IV  https://www.moneycontrol.com/india/stockpriceq...\n",
       "5755   SGBOCT25V  https://www.moneycontrol.com/india/stockpriceq...\n",
       "5756    SGBOCT26  https://www.moneycontrol.com/india/stockpriceq...\n",
       "\n",
       "[2893 rows x 2 columns]"
      ]
     },
     "execution_count": 16,
     "metadata": {},
     "output_type": "execute_result"
    }
   ],
   "source": [
    "list_df"
   ]
  },
  {
   "cell_type": "code",
   "execution_count": 24,
   "id": "03a6fd71",
   "metadata": {
    "scrolled": true
   },
   "outputs": [],
   "source": [
    "frames = []\n",
    "for i in range(len(list_df)):\n",
    "    data =  {\n",
    "        'SYMBOL' : list_df['nsesymbol'].iloc[i],\n",
    "        'SECTOR' : list_df['URL'].iloc[i].split('/')[5]\n",
    "    }\n",
    "    temp_df = pd.DataFrame(data, index=[1])\n",
    "    frames.append(temp_df)"
   ]
  },
  {
   "cell_type": "code",
   "execution_count": null,
   "id": "a6b285b0",
   "metadata": {},
   "outputs": [],
   "source": [
    "final_df = pd.concat(frames, ignore_index=True)"
   ]
  }
 ],
 "metadata": {
  "kernelspec": {
   "display_name": "Python 3 (ipykernel)",
   "language": "python",
   "name": "python3"
  },
  "language_info": {
   "codemirror_mode": {
    "name": "ipython",
    "version": 3
   },
   "file_extension": ".py",
   "mimetype": "text/x-python",
   "name": "python",
   "nbconvert_exporter": "python",
   "pygments_lexer": "ipython3",
   "version": "3.9.12"
  }
 },
 "nbformat": 4,
 "nbformat_minor": 5
}
