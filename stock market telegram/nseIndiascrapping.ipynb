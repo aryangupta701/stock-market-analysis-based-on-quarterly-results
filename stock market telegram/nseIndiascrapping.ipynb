{
 "cells": [
  {
   "cell_type": "code",
   "execution_count": 47,
   "id": "5b1c980e",
   "metadata": {},
   "outputs": [],
   "source": [
    "from selenium import webdriver\n",
    "import webbrowser\n",
    "# driver = webdriver.Chrome()"
   ]
  },
  {
   "cell_type": "code",
   "execution_count": null,
   "id": "f28d6b42",
   "metadata": {},
   "outputs": [],
   "source": [
    "from selenium.webdriver.support.ui import WebDriverWait\n",
    "from selenium.webdriver.support import expected_conditions as EC\n",
    "\n",
    "options = webdriver.ChromeOptions() \n",
    "options.add_experimental_option(\"excludeSwitches\", [\"enable-automation\"])\n",
    "options.add_experimental_option('useAutomationExtension', False)\n",
    "driver = webdriver.Chrome(options=options, executable_path=r'C:\\WebDrivers\\chromedriver.exe')\n",
    "driver.get(\"https://www.nseindia.com/get-quotes/equity?symbol=AAVAS\")\n",
    "WebDriverWait(driver, 20).until(EC.visibility_of_element_located((By.CSS_SELECTOR, \"h1.h1\")))\n",
    "print(driver.page_source)\n",
    "driver.quit()"
   ]
  },
  {
   "cell_type": "code",
   "execution_count": 48,
   "id": "3e8f004d",
   "metadata": {},
   "outputs": [],
   "source": [
    "driver.get(\"https://www.nseindia.com/get-quotes/equity?symbol=AAVAS#info-historicaldata\")"
   ]
  },
  {
   "cell_type": "code",
   "execution_count": 40,
   "id": "e7424b34",
   "metadata": {},
   "outputs": [],
   "source": [
    "from selenium.webdriver.common.by import By\n",
    "\n",
    "button = driver.find_element(By.XPATH, '//a[text()=\"6M\"]')\n",
    "button.click()"
   ]
  },
  {
   "cell_type": "code",
   "execution_count": 41,
   "id": "0886176c",
   "metadata": {},
   "outputs": [
    {
     "name": "stdout",
     "output_type": "stream",
     "text": [
      "\" Filter \"\n"
     ]
    }
   ],
   "source": [
    "s = \"\"\n",
    "s += '\"'\n",
    "s += \" Filter \"\n",
    "s += '\"'\n",
    "print(s)\n",
    "filterButton = driver.find_element(By.CLASS_NAME, \"btn-min-w\")\n",
    "filterButton.click()"
   ]
  },
  {
   "cell_type": "code",
   "execution_count": null,
   "id": "dfa93fbf",
   "metadata": {},
   "outputs": [],
   "source": []
  }
 ],
 "metadata": {
  "kernelspec": {
   "display_name": "Python 3 (ipykernel)",
   "language": "python",
   "name": "python3"
  },
  "language_info": {
   "codemirror_mode": {
    "name": "ipython",
    "version": 3
   },
   "file_extension": ".py",
   "mimetype": "text/x-python",
   "name": "python",
   "nbconvert_exporter": "python",
   "pygments_lexer": "ipython3",
   "version": "3.9.12"
  }
 },
 "nbformat": 4,
 "nbformat_minor": 5
}
