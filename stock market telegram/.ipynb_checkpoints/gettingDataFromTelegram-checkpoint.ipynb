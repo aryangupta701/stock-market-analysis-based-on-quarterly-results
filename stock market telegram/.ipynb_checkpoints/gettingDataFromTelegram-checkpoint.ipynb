{
 "cells": [
  {
   "cell_type": "code",
   "execution_count": 97,
   "id": "915d758f",
   "metadata": {},
   "outputs": [],
   "source": [
    "import configparser\n",
    "config = configparser.ConfigParser()\n",
    "config.read(\"telethon.config\")\n",
    "api_id = config[\"telethon_credentials\"]['api_id']\n",
    "api_hash = config[\"telethon_credentials\"]['api_hash']\n",
    "api_hash = str(api_hash)"
   ]
  },
  {
   "cell_type": "code",
   "execution_count": 98,
   "id": "8d5a2213",
   "metadata": {},
   "outputs": [],
   "source": [
    "from telethon import TelegramClient\n",
    "import pandas as pd\n",
    "import datetime\n",
    "from asyncio import run \n",
    "chats = ['StockResultsSignals']\n",
    "name = \"Temp\""
   ]
  },
  {
   "cell_type": "code",
   "execution_count": 99,
   "id": "114d1385",
   "metadata": {},
   "outputs": [],
   "source": [
    "client = TelegramClient(name, api_id, api_hash)"
   ]
  },
  {
   "cell_type": "code",
   "execution_count": 100,
   "id": "85ae3daf",
   "metadata": {},
   "outputs": [
    {
     "data": {
      "text/plain": [
       "<telethon.client.telegramclient.TelegramClient at 0x1795e693970>"
      ]
     },
     "execution_count": 100,
     "metadata": {},
     "output_type": "execute_result"
    }
   ],
   "source": [
    "client"
   ]
  },
  {
   "cell_type": "code",
   "execution_count": 101,
   "id": "ec590d86",
   "metadata": {},
   "outputs": [
    {
     "data": {
      "text/plain": [
       "'91.108.56.143'"
      ]
     },
     "execution_count": 101,
     "metadata": {},
     "output_type": "execute_result"
    }
   ],
   "source": [
    "client.session.server_address"
   ]
  },
  {
   "cell_type": "code",
   "execution_count": 102,
   "id": "26f1590e",
   "metadata": {},
   "outputs": [
    {
     "data": {
      "text/plain": [
       "<telethon.client.telegramclient.TelegramClient at 0x1795e693970>"
      ]
     },
     "execution_count": 102,
     "metadata": {},
     "output_type": "execute_result"
    }
   ],
   "source": [
    "await client.start()\n"
   ]
  },
  {
   "cell_type": "code",
   "execution_count": 103,
   "id": "5afe439d",
   "metadata": {},
   "outputs": [],
   "source": [
    "await client.connect()"
   ]
  },
  {
   "cell_type": "code",
   "execution_count": 104,
   "id": "b965389e",
   "metadata": {},
   "outputs": [],
   "source": [
    "chat = 'StockResultsSignals'"
   ]
  },
  {
   "cell_type": "code",
   "execution_count": 121,
   "id": "5c7eb0df",
   "metadata": {},
   "outputs": [
    {
     "name": "stdout",
     "output_type": "stream",
     "text": [
      "Empty DataFrame\n",
      "Columns: []\n",
      "Index: []\n"
     ]
    }
   ],
   "source": [
    "df = pd.DataFrame()\n",
    "print(df)\n",
    "date_of_post = datetime.datetime(2022, 4, 1)"
   ]
  },
  {
   "cell_type": "code",
   "execution_count": 122,
   "id": "289947e6",
   "metadata": {},
   "outputs": [],
   "source": [
    "keywords = {'profit', 'up', 'down', 'revenue'}"
   ]
  },
  {
   "cell_type": "code",
   "execution_count": 123,
   "id": "e3556e44",
   "metadata": {},
   "outputs": [],
   "source": [
    "def isEligible(s): \n",
    "    s = str(s)\n",
    "    words = s.split()\n",
    "    tempset = set()\n",
    "    for word in words:\n",
    "        x = lower(word)\n",
    "        if(x in keywords):\n",
    "            tempset.add(x)\n",
    "    \n",
    "    return len(tempset) > 1\n",
    "        "
   ]
  },
  {
   "cell_type": "code",
   "execution_count": 119,
   "id": "23a26a11",
   "metadata": {},
   "outputs": [
    {
     "name": "stderr",
     "output_type": "stream",
     "text": [
      "C:\\Users\\garya\\AppData\\Local\\Temp\\ipykernel_12100\\3809436845.py:5: FutureWarning: The frame.append method is deprecated and will be removed from pandas in a future version. Use pandas.concat instead.\n",
      "  df = df.append(temp_df)\n"
     ]
    }
   ],
   "source": [
    "async for message in client.iter_messages(chat, offset_date= date_of_post, reverse=True):\n",
    "    if isEligible(message.text):\n",
    "        data = { \"group\" : chat,\"text\" : message.text, \"date\" : message.date}\n",
    "        temp_df = pd.DataFrame(data,index=[1])\n",
    "        df = df.append(temp_df)"
   ]
  },
  {
   "cell_type": "code",
   "execution_count": 120,
   "id": "21362bb9",
   "metadata": {},
   "outputs": [
    {
     "name": "stdout",
     "output_type": "stream",
     "text": [
      "                 group                                               text  \\\n",
      "1  StockResultsSignals  #2QWithCNBCTV18 | Bharat Rasayan reports #Q2 e...   \n",
      "1  StockResultsSignals  #2QWithCNBCTV18 | Bharat Rasayan reports #Q2 e...   \n",
      "\n",
      "                       date  \n",
      "1 2022-11-16 05:40:36+00:00  \n",
      "1 2022-11-16 05:40:36+00:00  \n"
     ]
    }
   ],
   "source": [
    "print(df)"
   ]
  },
  {
   "cell_type": "code",
   "execution_count": 89,
   "id": "6779ac3f",
   "metadata": {},
   "outputs": [],
   "source": [
    "df['date'] = df['date'].dt.tz_localize(None)"
   ]
  },
  {
   "cell_type": "code",
   "execution_count": 90,
   "id": "94d62da6",
   "metadata": {},
   "outputs": [
    {
     "name": "stderr",
     "output_type": "stream",
     "text": [
      "Attempt 1 at connecting failed: OSError: [Errno 10065] Connect call failed ('91.108.56.143', 443)\n",
      "Attempt 2 at connecting failed: TimeoutError: \n",
      "Attempt 1 at connecting failed: OSError: [Errno 10065] Connect call failed ('91.108.56.143', 443)\n",
      "Attempt 1 at connecting failed: OSError: [Errno 10065] Connect call failed ('91.108.56.143', 443)\n",
      "Attempt 2 at connecting failed: TimeoutError: \n",
      "Attempt 3 at connecting failed: TimeoutError: \n",
      "Attempt 4 at connecting failed: TimeoutError: \n",
      "Attempt 5 at connecting failed: TimeoutError: \n",
      "Attempt 6 at connecting failed: TimeoutError: \n",
      "Attempt 1 at connecting failed: ConnectionAbortedError: [Errno 10053] Connect call failed ('91.108.56.143', 443)\n",
      "Attempt 1 at connecting failed: OSError: [Errno 10065] Connect call failed ('91.108.56.143', 443)\n",
      "Attempt 1 at connecting failed: OSError: [Errno 10065] Connect call failed ('91.108.56.143', 443)\n",
      "Attempt 2 at connecting failed: OSError: [Errno 10065] Connect call failed ('91.108.56.143', 443)\n",
      "Attempt 3 at connecting failed: OSError: [Errno 10065] Connect call failed ('91.108.56.143', 443)\n",
      "Attempt 4 at connecting failed: OSError: [Errno 10065] Connect call failed ('91.108.56.143', 443)\n",
      "Attempt 5 at connecting failed: OSError: [Errno 10065] Connect call failed ('91.108.56.143', 443)\n"
     ]
    }
   ],
   "source": [
    "df.to_excel(\"C:\\\\Users\\\\garya\\\\stock market telegram\\\\telegramData.xlsx\", index=False)\n"
   ]
  },
  {
   "cell_type": "code",
   "execution_count": 92,
   "id": "5c3fab52",
   "metadata": {},
   "outputs": [
    {
     "name": "stdout",
     "output_type": "stream",
     "text": [
      "False\n"
     ]
    }
   ],
   "source": []
  },
  {
   "cell_type": "code",
   "execution_count": null,
   "id": "ec632090",
   "metadata": {},
   "outputs": [],
   "source": []
  },
  {
   "cell_type": "code",
   "execution_count": null,
   "id": "53de0b6c",
   "metadata": {},
   "outputs": [],
   "source": []
  }
 ],
 "metadata": {
  "kernelspec": {
   "display_name": "Python 3 (ipykernel)",
   "language": "python",
   "name": "python3"
  },
  "language_info": {
   "codemirror_mode": {
    "name": "ipython",
    "version": 3
   },
   "file_extension": ".py",
   "mimetype": "text/x-python",
   "name": "python",
   "nbconvert_exporter": "python",
   "pygments_lexer": "ipython3",
   "version": "3.9.12"
  }
 },
 "nbformat": 4,
 "nbformat_minor": 5
}
