{
 "cells": [
  {
   "cell_type": "code",
   "execution_count": 155,
   "id": "71fb7dff",
   "metadata": {},
   "outputs": [],
   "source": [
    "import pandas as pd \n",
    "import requests\n",
    "from bs4 import BeautifulSoup\n",
    "import numpy as np\n",
    "import time\n",
    "import html5lib"
   ]
  },
  {
   "cell_type": "code",
   "execution_count": 163,
   "id": "98499196",
   "metadata": {},
   "outputs": [],
   "source": [
    "scrip_codes = pd.read_csv(\"C:\\\\Users\\\\garya\\\\stock market telegram\\\\CN500.csv\")\n",
    "df = pd.DataFrame()\n",
    "quarter_count_1 = 2\n",
    "quarter_2 = 'Sep 2022'\n",
    "quarter_count_2 = 1\n",
    "quarter_1 = 'Jun 2022'\n",
    "\n",
    "year = -2\n",
    "frames = []"
   ]
  },
  {
   "cell_type": "code",
   "execution_count": 164,
   "id": "820d4a18",
   "metadata": {},
   "outputs": [
    {
     "name": "stdout",
     "output_type": "stream",
     "text": [
      "      ScripName\n",
      "0       3MINDIA\n",
      "1    AARTIDRUGS\n",
      "2         AAVAS\n",
      "3           ABB\n",
      "4    ABBOTINDIA\n",
      "..          ...\n",
      "496  ZENSARTECH\n",
      "497   ZFCVINDIA\n",
      "498      ZOMATO\n",
      "499   ZYDUSLIFE\n",
      "500   ZYDUSWELL\n",
      "\n",
      "[501 rows x 1 columns]\n"
     ]
    }
   ],
   "source": [
    "print(scrip_codes)"
   ]
  },
  {
   "cell_type": "code",
   "execution_count": 165,
   "id": "131d3054",
   "metadata": {},
   "outputs": [],
   "source": [
    "def checkParams(df):\n",
    "    if(df[0] == 'Sales\\xa0+' and df[2] == 'Operating Profit' and df[3] == 'OPM %' and df[9] == 'Net Profit'):\n",
    "        return True \n",
    "    return False"
   ]
  },
  {
   "cell_type": "code",
   "execution_count": 1,
   "id": "b444401a",
   "metadata": {},
   "outputs": [],
   "source": [
    "def extractNum(s):\n",
    "    ans = \"\"\n",
    "    flag = False\n",
    "    for c in s:\n",
    "        if(flag and c == '.'):\n",
    "            ans += c\n",
    "            continue\n",
    "        if(c >= '0' and c<='9'):\n",
    "            flag = True\n",
    "        if(flag and c != '\\n' and c!=' '):\n",
    "            ans += c\n",
    "    return ans"
   ]
  },
  {
   "cell_type": "code",
   "execution_count": null,
   "id": "af084e88",
   "metadata": {},
   "outputs": [],
   "source": [
    "def findRatios(ratios):\n",
    "    lst = []\n",
    "    for sibling in ratios:\n",
    "        lst.append(sibling.text)\n",
    "    roce = extractNum(lst[13])\n",
    "    peratio = extractNum(lst[7])\n",
    "    return roce , peratio"
   ]
  },
  {
   "cell_type": "code",
   "execution_count": 1,
   "id": "a1defeca",
   "metadata": {},
   "outputs": [
    {
     "ename": "NameError",
     "evalue": "name 'scrip_codes' is not defined",
     "output_type": "error",
     "traceback": [
      "\u001b[1;31m---------------------------------------------------------------------------\u001b[0m",
      "\u001b[1;31mNameError\u001b[0m                                 Traceback (most recent call last)",
      "Input \u001b[1;32mIn [1]\u001b[0m, in \u001b[0;36m<cell line: 1>\u001b[1;34m()\u001b[0m\n\u001b[1;32m----> 1\u001b[0m \u001b[38;5;28;01mfor\u001b[39;00m i \u001b[38;5;129;01min\u001b[39;00m \u001b[38;5;28mrange\u001b[39m(\u001b[38;5;28mlen\u001b[39m(\u001b[43mscrip_codes\u001b[49m)):\n\u001b[0;32m      2\u001b[0m     scrip \u001b[38;5;241m=\u001b[39m scrip_codes[\u001b[38;5;124m'\u001b[39m\u001b[38;5;124mScripName\u001b[39m\u001b[38;5;124m'\u001b[39m][i]\n\u001b[0;32m      3\u001b[0m     URL \u001b[38;5;241m=\u001b[39m \u001b[38;5;124mf\u001b[39m\u001b[38;5;124m\"\u001b[39m\u001b[38;5;124mhttps://www.screener.in/company/\u001b[39m\u001b[38;5;132;01m{\u001b[39;00mscrip\u001b[38;5;132;01m}\u001b[39;00m\u001b[38;5;124m/\u001b[39m\u001b[38;5;124m\"\u001b[39m\n",
      "\u001b[1;31mNameError\u001b[0m: name 'scrip_codes' is not defined"
     ]
    }
   ],
   "source": [
    "for i in range(len(scrip_codes)):\n",
    "    scrip = scrip_codes['ScripName'][i]\n",
    "    URL = f\"https://www.screener.in/company/{scrip}/\"\n",
    "    status_code = -1 \n",
    "    html_text = \"\"\n",
    "    print(scrip)\n",
    "    while(status_code != 200):\n",
    "        html_text = requests.get(URL)\n",
    "        status_code = html_text.status_code\n",
    "    try:\n",
    "        soup = BeautifulSoup(html_text.text, 'lxml')\n",
    "        quarter_results = soup.find_all(id = 'quarters')\n",
    "        yearly_results = soup.find_all(id = 'profit-loss')\n",
    "        ratios = soup.find(id='top-ratios')\n",
    "        roce , peratio = findRatios(ratios)\n",
    "        df_quarter = pd.read_html(str(quarter_results))[0]\n",
    "        flag = 0\n",
    "        if(checkParams(df_quarter.iloc[:,0]) == False):\n",
    "            flag  = 1\n",
    "        df_yearly = pd.read_html(str(yearly_results))[0]\n",
    "        quarter_data_1 = df_quarter[[quarter]]\n",
    "        quarter_data_2 = df_quarter[[quarter2]]\n",
    "        yearly_data = df_yearly.iloc[:,year]\n",
    "        \n",
    "        data = { \n",
    "                \"Scrip_Name\" : scrip,\n",
    "\n",
    "                \"Revenue_YOY\": yearly_data[0], \n",
    "                f\"Revenue_Q{quarter_count_1}\": quarter_data_1[quarter_1][0],\n",
    "                f\"Revenue_Q{quarter_count_2}\": quarter_data_2[quarter_2][0],\n",
    "\n",
    "                \"EBITDA_YOY\": yearly_data[2+flag], \n",
    "                f\"EBITDA_Q{quarter_count_1}\": quarter_data[quarter_1][2+flag],\n",
    "                f\"EBITDA_Q{quarter_count_2}\": quarter_data[quarter_2][2+flag],\n",
    "\n",
    "                \"Profit_YOY\": yearly_data[9], \n",
    "                f\"Profit_Q{quarter_count_1}\": quarter_data[quarter_1][9],\n",
    "                f\"Profit_Q{quarter_count_2}\": quarter_data[quarter_2][9],\n",
    "\n",
    "                \"Margin_YOY\": yearly_data[3+flag], \n",
    "                f\"Margin_Q{quarter_count_1}\": quarter_data[quarter_1][3+flag],\n",
    "                f\"Margin_Q{quarter_count_2}\": quarter_data[quarter_2][3+flag],\n",
    "            \n",
    "                \"ROCE\" : roce, \n",
    "                \"P/E Ratio\": peratio\n",
    "           }\n",
    "        temp_df = pd.DataFrame(data,index=[1])\n",
    "        frames.append(temp_df)\n",
    "    except Exception as e:\n",
    "        print(scrip, e)"
   ]
  },
  {
   "cell_type": "code",
   "execution_count": 160,
   "id": "5dcbaa81",
   "metadata": {},
   "outputs": [],
   "source": [
    "df = pd.concat(frames, ignore_index=True)"
   ]
  },
  {
   "cell_type": "code",
   "execution_count": 161,
   "id": "6a3ee81d",
   "metadata": {},
   "outputs": [
    {
     "name": "stdout",
     "output_type": "stream",
     "text": [
      "     Scrip_Name Revenue_YOY Revenue_Q2 EBITDA_YOY EBITDA_Q2 Profit_YOY  \\\n",
      "0       3MINDIA        3078        890        382       111        266   \n",
      "1    AARTIDRUGS        2251        551        321        55        195   \n",
      "2         AAVAS        1304        353        349       121        357   \n",
      "3           ABB        6934       2053        554       199        520   \n",
      "4    ABBOTINDIA        4919       1304       1088       270        799   \n",
      "..          ...         ...        ...        ...       ...        ...   \n",
      "495  ZENSARTECH        1629        435        415        88        321   \n",
      "496   ZFCVINDIA        2543        798        253        99        142   \n",
      "497      ZOMATO        3611       1132      -1627      -270      -1098   \n",
      "498   ZYDUSLIFE        7982       1981       1921       544        858   \n",
      "499   ZYDUSWELL         216         62         -5         5         13   \n",
      "\n",
      "    Profit_Q2 Margin_YOY Margin_Q2  \n",
      "0          80        12%       12%  \n",
      "1          26        14%       10%  \n",
      "2          89        477       34%  \n",
      "3         140         8%       10%  \n",
      "4         206        22%       21%  \n",
      "..        ...        ...       ...  \n",
      "495        55        25%       20%  \n",
      "496        62        10%       12%  \n",
      "497      -138       -45%      -24%  \n",
      "498       332        24%       27%  \n",
      "499         8        -2%        9%  \n",
      "\n",
      "[500 rows x 9 columns]\n"
     ]
    }
   ],
   "source": [
    "print(df)"
   ]
  },
  {
   "cell_type": "code",
   "execution_count": 162,
   "id": "ead80675",
   "metadata": {},
   "outputs": [],
   "source": [
    "df.to_excel(f\"C:\\\\Users\\\\garya\\\\stock market telegram\\\\{quarter}.xlsx\", index=False)"
   ]
  },
  {
   "cell_type": "code",
   "execution_count": 129,
   "id": "043c0b2a",
   "metadata": {},
   "outputs": [],
   "source": []
  }
 ],
 "metadata": {
  "kernelspec": {
   "display_name": "Python 3 (ipykernel)",
   "language": "python",
   "name": "python3"
  },
  "language_info": {
   "codemirror_mode": {
    "name": "ipython",
    "version": 3
   },
   "file_extension": ".py",
   "mimetype": "text/x-python",
   "name": "python",
   "nbconvert_exporter": "python",
   "pygments_lexer": "ipython3",
   "version": "3.9.12"
  }
 },
 "nbformat": 4,
 "nbformat_minor": 5
}
