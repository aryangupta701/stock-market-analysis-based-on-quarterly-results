{
 "cells": [
  {
   "cell_type": "code",
   "execution_count": 1,
   "id": "da25c6f0",
   "metadata": {},
   "outputs": [],
   "source": [
    "import pandas as pd "
   ]
  },
  {
   "cell_type": "code",
   "execution_count": 9,
   "id": "54a60e84",
   "metadata": {},
   "outputs": [],
   "source": [
    "dates = pd.read_csv('C:\\\\Users\\\\garya\\\\stock market telegram\\\\dates.csv')"
   ]
  },
  {
   "cell_type": "code",
   "execution_count": 10,
   "id": "90f2bdd4",
   "metadata": {},
   "outputs": [
    {
     "name": "stdout",
     "output_type": "stream",
     "text": [
      "             Date\n",
      "0     12-Apr-2017\n",
      "1     13-Apr-2017\n",
      "2     14-Apr-2017\n",
      "3     15-Apr-2017\n",
      "4     16-Apr-2017\n",
      "...           ...\n",
      "2488   3-Feb-2024\n",
      "2489   4-Feb-2024\n",
      "2490   5-Feb-2024\n",
      "2491   6-Feb-2024\n",
      "2492   7-Feb-2024\n",
      "\n",
      "[2493 rows x 1 columns]\n"
     ]
    }
   ],
   "source": [
    "print(dates)"
   ]
  },
  {
   "cell_type": "code",
   "execution_count": 31,
   "id": "1755c83a",
   "metadata": {},
   "outputs": [],
   "source": [
    "data = []\n",
    "for date in dates['Date']:\n",
    "    s = str(date)\n",
    "    ans = \"\"\n",
    "    mon = \"\"\n",
    "    yr = \"\"\n",
    "    flag = False\n",
    "    if(s[1] == '-'):\n",
    "        ans += '0'\n",
    "    for c in s:\n",
    "        if(c == '-'):\n",
    "            continue\n",
    "        if((c >= 'a' and c<='z') or (c >= 'A' and c<='Z') ):\n",
    "            ans += c.upper()\n",
    "            mon += c.upper()\n",
    "            flag = True\n",
    "        else:\n",
    "            if flag:\n",
    "                yr += c\n",
    "            ans += c\n",
    "    temp = [ans, mon, yr]\n",
    "    data.append(temp)"
   ]
  },
  {
   "cell_type": "code",
   "execution_count": null,
   "id": "cb1a1b11",
   "metadata": {},
   "outputs": [],
   "source": []
  },
  {
   "cell_type": "code",
   "execution_count": 32,
   "id": "0d518ebf",
   "metadata": {},
   "outputs": [],
   "source": [
    "df = pd.DataFrame(data, columns=['Date', 'Month', 'Year'])"
   ]
  },
  {
   "cell_type": "code",
   "execution_count": 33,
   "id": "01abe3ba",
   "metadata": {},
   "outputs": [
    {
     "name": "stdout",
     "output_type": "stream",
     "text": [
      "           Date Month  Year\n",
      "0     12APR2017   APR  2017\n",
      "1     13APR2017   APR  2017\n",
      "2     14APR2017   APR  2017\n",
      "3     15APR2017   APR  2017\n",
      "4     16APR2017   APR  2017\n",
      "...         ...   ...   ...\n",
      "2488  03FEB2024   FEB  2024\n",
      "2489  04FEB2024   FEB  2024\n",
      "2490  05FEB2024   FEB  2024\n",
      "2491  06FEB2024   FEB  2024\n",
      "2492  07FEB2024   FEB  2024\n",
      "\n",
      "[2493 rows x 3 columns]\n"
     ]
    }
   ],
   "source": [
    "print(df)"
   ]
  },
  {
   "cell_type": "code",
   "execution_count": 34,
   "id": "165e4e2c",
   "metadata": {},
   "outputs": [],
   "source": [
    "df.to_excel(, index=False)"
   ]
  }
 ],
 "metadata": {
  "kernelspec": {
   "display_name": "Python 3 (ipykernel)",
   "language": "python",
   "name": "python3"
  },
  "language_info": {
   "codemirror_mode": {
    "name": "ipython",
    "version": 3
   },
   "file_extension": ".py",
   "mimetype": "text/x-python",
   "name": "python",
   "nbconvert_exporter": "python",
   "pygments_lexer": "ipython3",
   "version": "3.9.12"
  }
 },
 "nbformat": 4,
 "nbformat_minor": 5
}
