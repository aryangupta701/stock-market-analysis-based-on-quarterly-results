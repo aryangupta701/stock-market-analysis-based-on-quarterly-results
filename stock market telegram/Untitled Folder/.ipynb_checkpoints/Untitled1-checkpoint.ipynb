{
 "cells": [
  {
   "cell_type": "code",
   "execution_count": 23,
   "id": "b5beb553",
   "metadata": {},
   "outputs": [],
   "source": [
    "import pandas as pd\n",
    "import requests"
   ]
  },
  {
   "cell_type": "code",
   "execution_count": 44,
   "id": "deb033f5",
   "metadata": {},
   "outputs": [],
   "source": [
    "dates = pd.read_excel(\"C:\\\\Users\\\\garya\\\\stock market telegram\\\\dataset\\\\datesData.xlsx\")\n",
    "scrip_codes = pd.read_csv(\"C:\\\\Users\\\\garya\\\\stock market telegram\\\\nsedata\\\\nsecompanies.csv\")"
   ]
  },
  {
   "cell_type": "code",
   "execution_count": 46,
   "id": "27631170",
   "metadata": {},
   "outputs": [
    {
     "name": "stdout",
     "output_type": "stream",
     "text": [
      "   ScripCodes\n",
      "0   20MICRONS\n",
      "1  21STCENMGM\n",
      "2  364D030823\n",
      "3  364D161123\n",
      "4   3IINFOLTD\n",
      "5     3MINDIA\n",
      "6      3PLAND\n",
      "7   426GS2023\n",
      "8      4THDIM\n",
      "9      5PAISA\n"
     ]
    }
   ],
   "source": [
    "scrip_codes = scrip_codes.head(10)\n",
    "print(scrip_codes)"
   ]
  },
  {
   "cell_type": "code",
   "execution_count": 40,
   "id": "c80f2b92",
   "metadata": {},
   "outputs": [
    {
     "name": "stdout",
     "output_type": "stream",
     "text": [
      "Sep 2019\n",
      "Sep 2019\n",
      "Sep 2019\n",
      "Sep 2019\n",
      "Sep 2019\n",
      "Sep 2019\n",
      "Sep 2019\n",
      "Sep 2019\n",
      "Sep 2019\n",
      "Sep 2019\n",
      "Sep 2019\n",
      "Sep 2019\n",
      "Sep 2019\n",
      "Sep 2019\n",
      "Sep 2019\n",
      "Sep 2019\n",
      "Sep 2019\n",
      "Sep 2019\n",
      "Sep 2019\n",
      "Sep 2019\n",
      "Sep 2019\n",
      "Sep 2019\n",
      "Sep 2019\n",
      "Sep 2019\n",
      "Sep 2019\n",
      "Sep 2019\n",
      "Sep 2019\n",
      "Sep 2019\n",
      "Sep 2019\n",
      "Sep 2019\n",
      "Sep 2019\n",
      "Sep 2019\n",
      "Sep 2019\n",
      "Sep 2019\n",
      "Sep 2019\n",
      "Sep 2019\n",
      "Sep 2019\n",
      "Sep 2019\n",
      "Sep 2019\n",
      "Sep 2019\n",
      "Sep 2019\n",
      "Sep 2019\n",
      "Sep 2019\n",
      "Sep 2019\n",
      "Sep 2019\n",
      "Sep 2019\n",
      "Sep 2019\n",
      "Sep 2019\n",
      "Sep 2019\n",
      "Sep 2019\n",
      "Sep 2019\n",
      "Sep 2019\n",
      "Sep 2019\n",
      "Sep 2019\n",
      "Sep 2019\n",
      "Sep 2019\n",
      "Sep 2019\n",
      "Sep 2019\n",
      "Sep 2019\n",
      "Sep 2019\n",
      "Sep 2019\n",
      "Sep 2019\n",
      "Dec 2019\n",
      "Dec 2019\n",
      "Dec 2019\n",
      "Dec 2019\n"
     ]
    }
   ],
   "source": [
    "for i in range(100): \n",
    "    try: \n",
    "        date = dates['Date'][i]\n",
    "        year = str(dates['Year'][i])\n",
    "        mon = dates['Month'][i]\n",
    "        URL = f\"https://www1.nseindia.com/content/historical/EQUITIES/{year}/{mon}/cm{date}bhav.csv.zip\"\n",
    "        res = requests.get(URL)\n",
    "        if(res.status_code == 404):\n",
    "            continue\n",
    "        data = pd.read_csv(URL).set_index('SYMBOL')\n",
    "        prices = data['CLOSE']\n",
    "        if(mon == 'JAN' or mon == 'FEB' or mon == 'MAR'):\n",
    "            quarter = 'Mar ' + year\n",
    "        elif(mon == 'APR' or mon == 'MAY' or mon == 'JUN'):\n",
    "            quarter = 'Jun ' + year\n",
    "        elif(mon == 'JUL' or mon == 'AUG' or mon == 'SEP'):\n",
    "            quarter = 'Sep ' + year\n",
    "        else:\n",
    "            quarter = 'Dec ' + year\n",
    "        print(quarter)\n",
    "    except Exception as e:\n",
    "        print(e)"
   ]
  },
  {
   "cell_type": "code",
   "execution_count": null,
   "id": "1ab9066f",
   "metadata": {},
   "outputs": [],
   "source": []
  }
 ],
 "metadata": {
  "kernelspec": {
   "display_name": "Python 3 (ipykernel)",
   "language": "python",
   "name": "python3"
  },
  "language_info": {
   "codemirror_mode": {
    "name": "ipython",
    "version": 3
   },
   "file_extension": ".py",
   "mimetype": "text/x-python",
   "name": "python",
   "nbconvert_exporter": "python",
   "pygments_lexer": "ipython3",
   "version": "3.9.12"
  }
 },
 "nbformat": 4,
 "nbformat_minor": 5
}
