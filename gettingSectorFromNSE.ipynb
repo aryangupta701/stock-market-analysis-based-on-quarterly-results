{
 "cells": [
  {
   "cell_type": "code",
   "execution_count": 4,
   "id": "73cccebe",
   "metadata": {},
   "outputs": [],
   "source": [
    "import pandas as pd"
   ]
  },
  {
   "cell_type": "code",
   "execution_count": null,
   "id": "e9f99dae",
   "metadata": {},
   "outputs": [],
   "source": [
    "#https://www.niftyindices.com/IndexConstituent/ind_niftybanklist.csv"
   ]
  },
  {
   "cell_type": "code",
   "execution_count": 15,
   "id": "e7d97b9d",
   "metadata": {},
   "outputs": [],
   "source": [
    "list1 = ['_privatebank', 'auto', 'bank' , 'consumerdurables' , 'finance', 'financialservices25-50', 'financialservicesexbank_', 'fmcg', 'healthcare', 'it', 'media', 'metal', 'midsmallfinancailservice_', 'midsmallhealthcare_' , 'midsmallitAndtelecom_' , 'oilgas', 'pharma', 'psubank', 'realty']"
   ]
  },
  {
   "cell_type": "code",
   "execution_count": 16,
   "id": "732f5848",
   "metadata": {},
   "outputs": [
    {
     "name": "stdout",
     "output_type": "stream",
     "text": [
      "_privatebank\n",
      "auto\n",
      "bank\n",
      "consumerdurables\n",
      "finance\n",
      "financialservices25-50\n",
      "financialservicesexbank_\n",
      "fmcg\n",
      "healthcare\n",
      "it\n",
      "media\n",
      "metal\n",
      "midsmallfinancailservice_\n",
      "midsmallhealthcare_\n",
      "midsmallitAndtelecom_\n",
      "oilgas\n",
      "pharma\n",
      "psubank\n",
      "realty\n"
     ]
    }
   ],
   "source": [
    "frames = []\n",
    "for company in list1:\n",
    "    print(company)\n",
    "    df = pd.read_csv(f\"C:\\\\Users\\\\garya\\\\ML projects\\\\Stock analysis\\\\datasets\\\\nifty indexes\\\\ind_nifty{company}list.csv\")\n",
    "    for i in range(len(df)):\n",
    "        data = {\n",
    "            'SYMBOL' : df['Symbol'].loc[i], \n",
    "            'SECTOR' : company, \n",
    "            'industry' : df['Industry'].loc[i]\n",
    "        }\n",
    "        temp_df = pd.DataFrame(data, index = [1])\n",
    "        frames.append(temp_df)"
   ]
  },
  {
   "cell_type": "code",
   "execution_count": 17,
   "id": "d5870885",
   "metadata": {},
   "outputs": [],
   "source": [
    "final_df = pd.concat(frames, ignore_index = True)\n",
    "final_df.to_csv(\"C:\\\\Users\\\\garya\\\\ML projects\\\\Stock analysis\\\\sectorwiseanalysis\\dataset\\\\sectorIndex.csv\")"
   ]
  }
 ],
 "metadata": {
  "kernelspec": {
   "display_name": "Python 3 (ipykernel)",
   "language": "python",
   "name": "python3"
  },
  "language_info": {
   "codemirror_mode": {
    "name": "ipython",
    "version": 3
   },
   "file_extension": ".py",
   "mimetype": "text/x-python",
   "name": "python",
   "nbconvert_exporter": "python",
   "pygments_lexer": "ipython3",
   "version": "3.9.12"
  }
 },
 "nbformat": 4,
 "nbformat_minor": 5
}
