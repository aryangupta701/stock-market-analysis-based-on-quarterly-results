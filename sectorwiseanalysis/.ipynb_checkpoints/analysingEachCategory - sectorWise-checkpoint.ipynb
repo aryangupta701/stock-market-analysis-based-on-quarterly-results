{
 "cells": [
  {
   "cell_type": "code",
   "execution_count": 1,
   "id": "173f6a7a",
   "metadata": {},
   "outputs": [],
   "source": [
    "import pandas as pd\n",
    "from os import listdir"
   ]
  },
  {
   "cell_type": "code",
   "execution_count": 2,
   "id": "68a1746e",
   "metadata": {},
   "outputs": [],
   "source": [
    "sector_df = pd.read_csv('C:\\\\Users\\\\garya\\\\ML projects\\\\Stock analysis\\\\sectorwiseanalysis\\\\dataset\\\\sectorIndex.csv').set_index('SYMBOL')"
   ]
  },
  {
   "cell_type": "code",
   "execution_count": 3,
   "id": "656220a3",
   "metadata": {},
   "outputs": [],
   "source": [
    "sectors = listdir(\"C:\\\\Users\\\\garya\\\\ML projects\\\\Stock analysis\\\\datasets\\\\nifty indexes\")"
   ]
  },
  {
   "cell_type": "code",
   "execution_count": 4,
   "id": "76673f41",
   "metadata": {},
   "outputs": [
    {
     "data": {
      "text/plain": [
       "['ind_niftyautolist.csv',\n",
       " 'ind_niftybanklist.csv',\n",
       " 'ind_niftyconsumerdurableslist.csv',\n",
       " 'ind_niftyfinancelist.csv',\n",
       " 'ind_niftyfinancialservices25-50list.csv',\n",
       " 'ind_niftyfinancialservicesexbank_list.csv',\n",
       " 'ind_niftyfmcglist.csv',\n",
       " 'ind_niftyhealthcarelist.csv',\n",
       " 'ind_niftyitlist.csv',\n",
       " 'ind_niftymedialist.csv',\n",
       " 'ind_niftymetallist.csv',\n",
       " 'ind_niftymidsmallfinancailservice_list.csv',\n",
       " 'ind_niftymidsmallhealthcare_list.csv',\n",
       " 'ind_niftymidsmallitAndtelecom_list.csv',\n",
       " 'ind_niftyoilgaslist.csv',\n",
       " 'ind_niftypharmalist.csv',\n",
       " 'ind_niftypsubanklist.csv',\n",
       " 'ind_niftyrealtylist.csv',\n",
       " 'ind_nifty_privatebanklist.csv']"
      ]
     },
     "execution_count": 4,
     "metadata": {},
     "output_type": "execute_result"
    }
   ],
   "source": [
    "sectors"
   ]
  },
  {
   "cell_type": "code",
   "execution_count": 8,
   "id": "658e72fb",
   "metadata": {},
   "outputs": [
    {
     "name": "stdout",
     "output_type": "stream",
     "text": [
      "{'Sector': 'niftyautolist'}\n",
      "{'Sector': 'niftybanklist'}\n",
      "{'Sector': 'niftyconsumerdurableslist'}\n",
      "{'Sector': 'niftyfinancelist'}\n",
      "{'Sector': 'niftyfinancialservices25-50list'}\n",
      "{'Sector': 'niftyfinancialservicesexbank_list'}\n",
      "{'Sector': 'niftyfmcglist'}\n",
      "{'Sector': 'niftyhealthcarelist'}\n",
      "{'Sector': 'niftyitlist'}\n",
      "{'Sector': 'niftymedialist'}\n",
      "{'Sector': 'niftymetallist'}\n",
      "{'Sector': 'niftymidsmallfinancailservice_list'}\n",
      "{'Sector': 'niftymidsmallhealthcare_list'}\n",
      "{'Sector': 'niftymidsmallitAndtelecom_list'}\n",
      "{'Sector': 'niftyoilgaslist'}\n",
      "{'Sector': 'niftypharmalist'}\n",
      "{'Sector': 'niftypsubanklist'}\n",
      "{'Sector': 'niftyrealtylist'}\n",
      "{'Sector': 'nifty_privatebanklist'}\n"
     ]
    }
   ],
   "source": [
    "for sector in sectors:\n",
    "    savePath = f\"C:\\\\Users\\\\garya\\\\ML projects\\\\Stock analysis\\\\sectorwiseanalysis\\\\dataset\\\\{sector}\"\n",
    "    \n",
    "    \n",
    "    data = {\n",
    "        \"Sector\" : sector[4:-4]\n",
    "    }\n",
    "    print(data)\n",
    "    "
   ]
  },
  {
   "cell_type": "code",
   "execution_count": null,
   "id": "fcadb7b9",
   "metadata": {},
   "outputs": [],
   "source": []
  },
  {
   "cell_type": "code",
   "execution_count": null,
   "id": "3174b501",
   "metadata": {},
   "outputs": [],
   "source": []
  }
 ],
 "metadata": {
  "kernelspec": {
   "display_name": "Python 3 (ipykernel)",
   "language": "python",
   "name": "python3"
  },
  "language_info": {
   "codemirror_mode": {
    "name": "ipython",
    "version": 3
   },
   "file_extension": ".py",
   "mimetype": "text/x-python",
   "name": "python",
   "nbconvert_exporter": "python",
   "pygments_lexer": "ipython3",
   "version": "3.9.12"
  }
 },
 "nbformat": 4,
 "nbformat_minor": 5
}
