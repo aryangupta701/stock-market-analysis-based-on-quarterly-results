{
 "cells": [
  {
   "cell_type": "code",
   "execution_count": 188,
   "id": "377e24a0",
   "metadata": {},
   "outputs": [],
   "source": [
    "import datetime\n",
    "import pandas as pd\n",
    "from dateutil.relativedelta import relativedelta\n",
    "import os"
   ]
  },
  {
   "cell_type": "code",
   "execution_count": 189,
   "id": "71a8f47a",
   "metadata": {},
   "outputs": [],
   "source": [
    "def getQuarters(curDate, prevDate):\n",
    "    \n",
    "    prevMon = prevDate.strftime(\"%b\")\n",
    "    curMon = curDate.strftime(\"%b\")\n",
    "    prevYear = prevDate.strftime(\"%Y\")\n",
    "    curYear = curDate.strftime(\"%Y\")\n",
    "    curQuarter = f\"{curMon} {curYear}\"\n",
    "    prevQuarter = f\"{prevMon} {prevYear}\"\n",
    "    return curQuarter, prevQuarter\n",
    "\n",
    "def quarterList():\n",
    "    lst = []\n",
    "    date = datetime.datetime(2022,12,1)\n",
    "    minDate = datetime.datetime(2017,1,1)\n",
    "    while(date > minDate):\n",
    "        prevDate = date-relativedelta(months=3)\n",
    "        curQuarter, prevQuarter = getQuarters(date, prevDate)\n",
    "        lst.append([curQuarter, prevQuarter])\n",
    "        date = prevDate\n",
    "    return lst"
   ]
  },
  {
   "cell_type": "code",
   "execution_count": 190,
   "id": "850a5891",
   "metadata": {},
   "outputs": [],
   "source": [
    "quarterPairs = quarterList()\n",
    "quarter_result_dates = pd.read_csv(\"C:\\\\Users\\\\garya\\\\ML projects\\\\Stock analysis\\\\datasets\\\\quarterlyResultDates.csv\", index_col= False)"
   ]
  },
  {
   "cell_type": "code",
   "execution_count": null,
   "id": "78f915cd",
   "metadata": {},
   "outputs": [],
   "source": [
    "quarterly_df = pd.read_csv(\"C:\\\\Users\\\\garya\\\\ML projects\\\\Stock analysis\\\\datasets\\\\quarterlyResultsNSE.csv\").set_index('symbol')"
   ]
  },
  {
   "cell_type": "code",
   "execution_count": 191,
   "id": "e7fd8d55",
   "metadata": {},
   "outputs": [],
   "source": [
    "quarter_result_dates = quarter_result_dates.fillna(\"\")\n",
    "quarter_result_dates = quarter_result_dates[quarter_results_dates['nsesymbol'] != '']\n",
    "quarter_result_dates = quarter_result_dates.reset_index()"
   ]
  },
  {
   "cell_type": "code",
   "execution_count": 192,
   "id": "5eb2b1cd",
   "metadata": {},
   "outputs": [
    {
     "name": "stdout",
     "output_type": "stream",
     "text": [
      "index                    1\n",
      "companyname    amjumbobags\n",
      "companycode           JB03\n",
      "nsesymbol          AMJUMBO\n",
      "bsesymbol                 \n",
      "                  ...     \n",
      "Mar 1999                  \n",
      "Sep 1997                  \n",
      "Mar 1998                  \n",
      "Mar 1997                  \n",
      "Dec 1996                  \n",
      "Name: 0, Length: 110, dtype: object\n"
     ]
    }
   ],
   "source": [
    "print(quarter_result_dates.loc[0])"
   ]
  },
  {
   "cell_type": "code",
   "execution_count": 153,
   "id": "10130acd",
   "metadata": {},
   "outputs": [],
   "source": [
    "temp_data = quarter_result_dates.loc[0]"
   ]
  },
  {
   "cell_type": "code",
   "execution_count": 155,
   "id": "6f9f62ac",
   "metadata": {},
   "outputs": [
    {
     "data": {
      "text/plain": [
       "companyname      amfebcon\n",
       "companycode           F03\n",
       "nsesymbol                \n",
       "bsesymbol        540697.0\n",
       "Sep 2021       27-10-2021\n",
       "                  ...    \n",
       "Mar 1999                 \n",
       "Sep 1997                 \n",
       "Mar 1998                 \n",
       "Mar 1997                 \n",
       "Dec 1996                 \n",
       "Name: 0, Length: 109, dtype: object"
      ]
     },
     "execution_count": 155,
     "metadata": {},
     "output_type": "execute_result"
    }
   ],
   "source": [
    "temp_data = temp_data.dropna()\n",
    "temp_data"
   ]
  },
  {
   "cell_type": "code",
   "execution_count": 111,
   "id": "e343eef0",
   "metadata": {},
   "outputs": [],
   "source": [
    "#   0         0          0         0\n",
    "#   8         4          2         1\n",
    "#(profit) (revenue)  (Ebitda) `(margin)\n",
    "\n",
    "def getBit(str1, str2):\n",
    "    a = float(str1)\n",
    "    b = float(str2)\n",
    "    change = a - b\n",
    "    if(change > 0):\n",
    "        return 1\n",
    "    return 0\n",
    "\n",
    "def generateCategory(prevQuarter, curQuarter, fundamental_row):\n",
    "    try:\n",
    "        ans = 0\n",
    "        marginBit = getBit(fundamental_row[f\"Margin {curQuarter}\"], fundamental_row[f\"Margin {prevQuarter}\"])\n",
    "        ebitdaBit = getBit(fundamental_row[f\"EBITDA {curQuarter}\"], fundamental_row[f\"EBITDA {prevQuarter}\"])\n",
    "        revenueBit = getBit(fundamental_row[f\"Revenue {curQuarter}\"], fundamental_row[f\"Revenue {prevQuarter}\"])\n",
    "        profitBit = getBit(fundamental_row[f\"Profit {curQuarter}\"], fundamental_row[f\"Profit {prevQuarter}\"])\n",
    "\n",
    "        ans += marginBit*1\n",
    "        ans += ebitdaBit*2 \n",
    "        ans += revenueBit*4\n",
    "        ans += profitBit*8\n",
    "        if(ans > 15):\n",
    "            return -1\n",
    "        return ans\n",
    "    except Exception as e:\n",
    "        print(\"category\", e)\n",
    "        return -1\n",
    "    \n",
    "def getHighLowValues():\n",
    "    return 0,0\n",
    "\n",
    "def getCurPrice(date, symbol, flag=True):\n",
    "    if(flag):\n",
    "        date = date.split(\"-\")\n",
    "        date = datetime.datetime(int(date[2]),int(date[1]),int(date[0]) )\n",
    "    minDate = datetime.datetime(2017,1,1)\n",
    "    while(date > minDate ):\n",
    "        try:\n",
    "            YY = date.strftime(\"%Y\")\n",
    "            mon = date.strftime(\"%b\").upper()\n",
    "            dd = date.strftime(\"%d\")\n",
    "            df = pd.read_csv(f\"C:\\\\Users\\\\garya\\\\ML projects\\\\Stock analysis\\\\datasets\\\\nsedataPrevious5years\\\\cm{dd}{mon}{YY}bhav.csv\").set_index(\"SYMBOL\")\n",
    "            ans = df['CLOSE'][symbol]\n",
    "            return ans\n",
    "        except Exception as e:\n",
    "            print(e)\n",
    "        finally:\n",
    "            date -= datetime.timedelta(days=1)\n",
    "def getHighLowValues(date, symbol):\n",
    "    high = getCurPrice(date)\n",
    "    low = high\n",
    "    date = date.split(\"-\")\n",
    "    date = datetime.datetime(int(date[2]),int(date[1]),int(date[0]) )\n",
    "    for i in range(1,90):\n",
    "        date += datetime.timedelta(days=1)\n",
    "        val = float(getCurPrice(date,symbol,False))\n",
    "        high = max(high,val )\n",
    "        low - min(low, val)\n",
    "    \n",
    "    return high,low\n",
    "        "
   ]
  },
  {
   "cell_type": "code",
   "execution_count": 121,
   "id": "b491ceac",
   "metadata": {},
   "outputs": [
    {
     "name": "stdout",
     "output_type": "stream",
     "text": [
      "[Errno 2] No such file or directory: 'C:\\\\Users\\\\garya\\\\ML projects\\\\Stock analysis\\\\datasets\\\\nsedataPrevious5years\\\\cm28FEB2021bhav.csv'\n",
      "[Errno 2] No such file or directory: 'C:\\\\Users\\\\garya\\\\ML projects\\\\Stock analysis\\\\datasets\\\\nsedataPrevious5years\\\\cm27FEB2021bhav.csv'\n",
      "22832.75\n"
     ]
    }
   ],
   "source": [
    "print(getCurPrice(\"28-02-2021\", \"3MINDIA\"))"
   ]
  },
  {
   "cell_type": "code",
   "execution_count": null,
   "id": "fe3f820b",
   "metadata": {},
   "outputs": [],
   "source": [
    "frames = []"
   ]
  },
  {
   "cell_type": "code",
   "execution_count": 85,
   "id": "49698223",
   "metadata": {},
   "outputs": [],
   "source": [
    "for i in range(len(quarter_result_dates)):\n",
    "    try: \n",
    "        date_row = quarter_result_dates.iloc[i].dropna()\n",
    "        symbol = date_row['nsesymbol']\n",
    "        companyname = date_row['companyname']\n",
    "        companycode = date_row['companycode']\n",
    "        columns = date_row.index\n",
    "        fundamentalrow = quarterly_df.loc[symbol]\n",
    "        for qtr in quarterPairs:\n",
    "            curQuarter = qtr[0]\n",
    "            prevQuarter = qtr[1]\n",
    "            if((curQuarter in columns)):\n",
    "                category = generateCategory(prevQuarter, curQuarter, fundamental_row)\n",
    "                if(category == -1):\n",
    "                    continue\n",
    "                highValue , lowValue = getHighLowValues(date_row[curQuarter], symbol)\n",
    "                curPrice = getCurPrice(date_row[curQuarter], symbol)\n",
    "                highChange = (highValue-curPrice)/curPrice\n",
    "                lowChange = (lowValue-curPrice)/curPrice\n",
    "\n",
    "                if(abs(highChange) > abs(lowChange)):\n",
    "                    change = highChange\n",
    "                else:\n",
    "                    change = lowChange\n",
    "            \n",
    "            data = {\n",
    "                \"SYMBOL\" : symbol,\n",
    "                \"Company Name\" : companyname,\n",
    "                \"Company Code\" : companycode,\n",
    "                \"Quarter\" : f\"{prevQuarter} - {curQuarter}\",\n",
    "                \"High in next 90 days\" : highValue,\n",
    "                \"Low in next 90 days\" : lowValue, \n",
    "                \"Change\" : change,\n",
    "            }\n",
    "            temp_df = pd.DataFrame(data, index=[1])\n",
    "            output_path= f\"C:\\\\Users\\\\garya\\\\ML projects\\\\Stock analysis\\\\datasets\\\\16categories\\\\category_number_{category}.csv\"\n",
    "            temp_df.to_csv(output_path, mode='a', header=not os.path.exists(output_path))\n",
    "    except Exception as e:\n",
    "        print(e)"
   ]
  },
  {
   "cell_type": "code",
   "execution_count": 201,
   "id": "f4b2b4e6",
   "metadata": {},
   "outputs": [],
   "source": [
    "dff = pd.read_csv(\"C:\\\\Users\\\\garya\\\\ML projects\\\\Stock analysis\\\\datasets\\\\nsedataPrevious5years\\\\cm01JAN2019bhav.csv\").set_index(\"SYMBOL\")"
   ]
  },
  {
   "cell_type": "code",
   "execution_count": 205,
   "id": "5c4acf75",
   "metadata": {},
   "outputs": [
    {
     "data": {
      "text/plain": [
       "SERIES                   EQ\n",
       "OPEN               20854.95\n",
       "HIGH                20870.0\n",
       "LOW                 20625.0\n",
       "CLOSE              20666.35\n",
       "LAST                20675.0\n",
       "PREVCLOSE           20824.4\n",
       "TOTTRDQTY               517\n",
       "TOTTRDVAL        10728195.1\n",
       "TIMESTAMP       01-JAN-2019\n",
       "TOTALTRADES             302\n",
       "ISIN           INE470A01017\n",
       "Unnamed: 13             NaN\n",
       "Name: 3MINDIA, dtype: object"
      ]
     },
     "execution_count": 205,
     "metadata": {},
     "output_type": "execute_result"
    }
   ],
   "source": [
    "x = dff.loc['3MINDIA']\n",
    "x"
   ]
  },
  {
   "cell_type": "code",
   "execution_count": 210,
   "id": "44a3b684",
   "metadata": {},
   "outputs": [
    {
     "data": {
      "text/plain": [
       "20666.35"
      ]
     },
     "execution_count": 210,
     "metadata": {},
     "output_type": "execute_result"
    }
   ],
   "source": [
    "x['CLOSE']"
   ]
  }
 ],
 "metadata": {
  "kernelspec": {
   "display_name": "Python 3 (ipykernel)",
   "language": "python",
   "name": "python3"
  },
  "language_info": {
   "codemirror_mode": {
    "name": "ipython",
    "version": 3
   },
   "file_extension": ".py",
   "mimetype": "text/x-python",
   "name": "python",
   "nbconvert_exporter": "python",
   "pygments_lexer": "ipython3",
   "version": "3.9.12"
  }
 },
 "nbformat": 4,
 "nbformat_minor": 5
}
